{
  "nbformat": 4,
  "nbformat_minor": 0,
  "metadata": {
    "colab": {
      "provenance": [],
      "collapsed_sections": [
        "1T85ReWbeEHd",
        "pe4jv7I8eBxN",
        "6ykDXUXVgs97"
      ]
    },
    "kernelspec": {
      "name": "python3",
      "display_name": "Python 3"
    },
    "language_info": {
      "name": "python"
    }
  },
  "cells": [
    {
      "cell_type": "markdown",
      "source": [
        "#문제1"
      ],
      "metadata": {
        "id": "1T85ReWbeEHd"
      }
    },
    {
      "cell_type": "code",
      "execution_count": 6,
      "metadata": {
        "colab": {
          "base_uri": "https://localhost:8080/"
        },
        "id": "ImpM0XIqR2lT",
        "outputId": "034a0990-b535-4d1e-b882-9b3ba01a66b9"
      },
      "outputs": [
        {
          "output_type": "stream",
          "name": "stdout",
          "text": [
            "<class 'pandas.core.frame.DataFrame'>\n",
            "RangeIndex: 120 entries, 0 to 119\n",
            "Data columns (total 5 columns):\n",
            " #   Column   Non-Null Count  Dtype \n",
            "---  ------   --------------  ----- \n",
            " 0   Id       120 non-null    object\n",
            " 1   sex      120 non-null    object\n",
            " 2   age      120 non-null    int64 \n",
            " 3   bp_pre   120 non-null    int64 \n",
            " 4   bp_post  120 non-null    int64 \n",
            "dtypes: int64(3), object(2)\n",
            "memory usage: 4.8+ KB\n"
          ]
        }
      ],
      "source": [
        "import pandas as pd\n",
        "df = pd.read_csv(\"/content/high_blood_pressure.csv\")\n",
        "df.info()"
      ]
    },
    {
      "cell_type": "code",
      "source": [],
      "metadata": {
        "id": "G14zohjZcMf6"
      },
      "execution_count": null,
      "outputs": []
    },
    {
      "cell_type": "code",
      "source": [
        "df.nunique()"
      ],
      "metadata": {
        "colab": {
          "base_uri": "https://localhost:8080/"
        },
        "id": "eHJTdoeLUlqa",
        "outputId": "8b494d6c-6ff9-4000-b65d-4ffa28fb2bc8"
      },
      "execution_count": 8,
      "outputs": [
        {
          "output_type": "execute_result",
          "data": {
            "text/plain": [
              "Id         120\n",
              "sex          2\n",
              "age         43\n",
              "bp_pre      44\n",
              "bp_post     53\n",
              "dtype: int64"
            ]
          },
          "metadata": {},
          "execution_count": 8
        }
      ]
    },
    {
      "cell_type": "code",
      "source": [
        "#mean\n",
        "df['bp_diff']=df['bp_post']-df['bp_pre']\n",
        "bp_mean=df.bp_diff.mean()\n",
        "print(round(bp_mean,2))"
      ],
      "metadata": {
        "colab": {
          "base_uri": "https://localhost:8080/"
        },
        "id": "2PXz_cKKVaxB",
        "outputId": "2f1ee632-ed92-4f62-acc7-de2858cab5f0"
      },
      "execution_count": 11,
      "outputs": [
        {
          "output_type": "stream",
          "name": "stdout",
          "text": [
            "-6.12\n"
          ]
        }
      ]
    },
    {
      "cell_type": "code",
      "source": [
        "from scipy import stats"
      ],
      "metadata": {
        "id": "3mxn0F89WiFC"
      },
      "execution_count": 12,
      "outputs": []
    },
    {
      "cell_type": "code",
      "source": [
        "dir(stats.ttest_rel)"
      ],
      "metadata": {
        "id": "sjNfF_qSWqeR"
      },
      "execution_count": null,
      "outputs": []
    },
    {
      "cell_type": "code",
      "source": [
        "help(stats.ttest_rel)"
      ],
      "metadata": {
        "colab": {
          "base_uri": "https://localhost:8080/"
        },
        "id": "FIZ5JWFGW56y",
        "outputId": "46f0bc16-5649-4447-d23f-fb87b70b6365"
      },
      "execution_count": 27,
      "outputs": [
        {
          "output_type": "stream",
          "name": "stdout",
          "text": [
            "Help on function ttest_rel in module scipy.stats._stats_py:\n",
            "\n",
            "ttest_rel(a, b, axis=0, nan_policy='propagate', alternative='two-sided', *, keepdims=False)\n",
            "    Calculate the t-test on TWO RELATED samples of scores, a and b.\n",
            "    \n",
            "    This is a test for the null hypothesis that two related or\n",
            "    repeated samples have identical average (expected) values.\n",
            "    \n",
            "    Parameters\n",
            "    ----------\n",
            "    a, b : array_like\n",
            "        The arrays must have the same shape.\n",
            "    axis : int or None, default: 0\n",
            "        If an int, the axis of the input along which to compute the statistic.\n",
            "        The statistic of each axis-slice (e.g. row) of the input will appear in a\n",
            "        corresponding element of the output.\n",
            "        If ``None``, the input will be raveled before computing the statistic.\n",
            "    nan_policy : {'propagate', 'omit', 'raise'}\n",
            "        Defines how to handle input NaNs.\n",
            "        \n",
            "        - ``propagate``: if a NaN is present in the axis slice (e.g. row) along\n",
            "          which the  statistic is computed, the corresponding entry of the output\n",
            "          will be NaN.\n",
            "        - ``omit``: NaNs will be omitted when performing the calculation.\n",
            "          If insufficient data remains in the axis slice along which the\n",
            "          statistic is computed, the corresponding entry of the output will be\n",
            "          NaN.\n",
            "        - ``raise``: if a NaN is present, a ``ValueError`` will be raised.\n",
            "    alternative : {'two-sided', 'less', 'greater'}, optional\n",
            "        Defines the alternative hypothesis.\n",
            "        The following options are available (default is 'two-sided'):\n",
            "        \n",
            "        * 'two-sided': the means of the distributions underlying the samples\n",
            "          are unequal.\n",
            "        * 'less': the mean of the distribution underlying the first sample\n",
            "          is less than the mean of the distribution underlying the second\n",
            "          sample.\n",
            "        * 'greater': the mean of the distribution underlying the first\n",
            "          sample is greater than the mean of the distribution underlying\n",
            "          the second sample.\n",
            "        \n",
            "        .. versionadded:: 1.6.0\n",
            "    keepdims : bool, default: False\n",
            "        If this is set to True, the axes which are reduced are left\n",
            "        in the result as dimensions with size one. With this option,\n",
            "        the result will broadcast correctly against the input array.\n",
            "    \n",
            "    Returns\n",
            "    -------\n",
            "    result : `~scipy.stats._result_classes.TtestResult`\n",
            "        An object with the following attributes:\n",
            "        \n",
            "        statistic : float or array\n",
            "            The t-statistic.\n",
            "        pvalue : float or array\n",
            "            The p-value associated with the given alternative.\n",
            "        df : float or array\n",
            "            The number of degrees of freedom used in calculation of the\n",
            "            t-statistic; this is one less than the size of the sample\n",
            "            (``a.shape[axis]``).\n",
            "        \n",
            "            .. versionadded:: 1.10.0\n",
            "        \n",
            "        The object also has the following method:\n",
            "        \n",
            "        confidence_interval(confidence_level=0.95)\n",
            "            Computes a confidence interval around the difference in\n",
            "            population means for the given confidence level.\n",
            "            The confidence interval is returned in a ``namedtuple`` with\n",
            "            fields `low` and `high`.\n",
            "        \n",
            "            .. versionadded:: 1.10.0\n",
            "    \n",
            "    Notes\n",
            "    -----\n",
            "    Examples for use are scores of the same set of student in\n",
            "    different exams, or repeated sampling from the same units. The\n",
            "    test measures whether the average score differs significantly\n",
            "    across samples (e.g. exams). If we observe a large p-value, for\n",
            "    example greater than 0.05 or 0.1 then we cannot reject the null\n",
            "    hypothesis of identical average scores. If the p-value is smaller\n",
            "    than the threshold, e.g. 1%, 5% or 10%, then we reject the null\n",
            "    hypothesis of equal averages. Small p-values are associated with\n",
            "    large t-statistics.\n",
            "    \n",
            "    The t-statistic is calculated as ``np.mean(a - b)/se``, where ``se`` is the\n",
            "    standard error. Therefore, the t-statistic will be positive when the sample\n",
            "    mean of ``a - b`` is greater than zero and negative when the sample mean of\n",
            "    ``a - b`` is less than zero.\n",
            "    \n",
            "    Beginning in SciPy 1.9, ``np.matrix`` inputs (not recommended for new\n",
            "    code) are converted to ``np.ndarray`` before the calculation is performed. In\n",
            "    this case, the output will be a scalar or ``np.ndarray`` of appropriate shape\n",
            "    rather than a 2D ``np.matrix``. Similarly, while masked elements of masked\n",
            "    arrays are ignored, the output will be a scalar or ``np.ndarray`` rather than a\n",
            "    masked array with ``mask=False``.\n",
            "    \n",
            "    References\n",
            "    ----------\n",
            "    https://en.wikipedia.org/wiki/T-test#Dependent_t-test_for_paired_samples\n",
            "    \n",
            "    Examples\n",
            "    --------\n",
            "    >>> import numpy as np\n",
            "    >>> from scipy import stats\n",
            "    >>> rng = np.random.default_rng()\n",
            "    \n",
            "    >>> rvs1 = stats.norm.rvs(loc=5, scale=10, size=500, random_state=rng)\n",
            "    >>> rvs2 = (stats.norm.rvs(loc=5, scale=10, size=500, random_state=rng)\n",
            "    ...         + stats.norm.rvs(scale=0.2, size=500, random_state=rng))\n",
            "    >>> stats.ttest_rel(rvs1, rvs2)\n",
            "    TtestResult(statistic=-0.4549717054410304, pvalue=0.6493274702088672, df=499)  # noqa\n",
            "    >>> rvs3 = (stats.norm.rvs(loc=8, scale=10, size=500, random_state=rng)\n",
            "    ...         + stats.norm.rvs(scale=0.2, size=500, random_state=rng))\n",
            "    >>> stats.ttest_rel(rvs1, rvs3)\n",
            "    TtestResult(statistic=-5.879467544540889, pvalue=7.540777129099917e-09, df=499)  # noqa\n",
            "\n"
          ]
        }
      ]
    },
    {
      "cell_type": "code",
      "source": [
        "result = stats.ttest_rel(df['bp_pre'],df['bp_post'], alternative='greater')\n",
        "print(result)\n",
        "rs=round(result.statistic,4)\n",
        "rp=round(result.pvalue,4)\n",
        "print(rs,rp)"
      ],
      "metadata": {
        "colab": {
          "base_uri": "https://localhost:8080/"
        },
        "id": "_TkSA9k5Xnut",
        "outputId": "f75d2498-01c2-46da-e23a-2c5f9c9eefc2"
      },
      "execution_count": 29,
      "outputs": [
        {
          "output_type": "stream",
          "name": "stdout",
          "text": [
            "TtestResult(statistic=3.0002163948827545, pvalue=0.0016434474228511028, df=119)\n",
            "3.0002 0.0016\n"
          ]
        }
      ]
    },
    {
      "cell_type": "code",
      "source": [
        "alpha=0.05\n",
        "if rp>=alpha:\n",
        "    print('귀무가설 채택')\n",
        "else:\n",
        "    print('귀무가설 기각, 대립가설 선택')"
      ],
      "metadata": {
        "colab": {
          "base_uri": "https://localhost:8080/"
        },
        "id": "JEz5Lo92Y69o",
        "outputId": "f573d0f8-960b-4e7a-a194-be3c3058406f"
      },
      "execution_count": 26,
      "outputs": [
        {
          "output_type": "stream",
          "name": "stdout",
          "text": [
            "귀무가설 기각, 대립가설 선택\n"
          ]
        }
      ]
    },
    {
      "cell_type": "markdown",
      "source": [
        "#문제2"
      ],
      "metadata": {
        "id": "pe4jv7I8eBxN"
      }
    },
    {
      "cell_type": "code",
      "source": [
        "group1 = [36.8, 36.7, 37.1, 36.9, 37.2, 36.8, 36.9, 37.1, 36.7, 37.1]\n",
        "group2 = [36.5, 36.6, 36.3, 36.6, 36.9, 36.7, 36.7, 36.8, 36.5, 36.7]"
      ],
      "metadata": {
        "id": "U54yNEoneBSr"
      },
      "execution_count": 31,
      "outputs": []
    },
    {
      "cell_type": "code",
      "source": [
        "mean_1 = sum(group1)/len(group1)\n",
        "mean_2 = sum(group2)/len(group2)"
      ],
      "metadata": {
        "id": "KPgYeH_oePD0"
      },
      "execution_count": 36,
      "outputs": []
    },
    {
      "cell_type": "code",
      "source": [
        "result=stats.ttest_ind(group1,group2)\n",
        "rs=round(result.statistic,4)\n",
        "rp=round(result.pvalue,4)\n",
        "print(rs,rp)"
      ],
      "metadata": {
        "colab": {
          "base_uri": "https://localhost:8080/"
        },
        "id": "WjZMKUD4ediL",
        "outputId": "e3a42a95-805c-4507-8d33-948c4c0fbe21"
      },
      "execution_count": 39,
      "outputs": [
        {
          "output_type": "stream",
          "name": "stdout",
          "text": [
            "3.7964 0.0013\n"
          ]
        }
      ]
    },
    {
      "cell_type": "code",
      "source": [
        "help(stats.ttest_ind)"
      ],
      "metadata": {
        "colab": {
          "base_uri": "https://localhost:8080/"
        },
        "id": "y0DiJf-WcNX7",
        "outputId": "392d1b47-c5b8-4ead-f178-3fb4c2dd5722"
      },
      "execution_count": 48,
      "outputs": [
        {
          "output_type": "stream",
          "name": "stdout",
          "text": [
            "Help on function ttest_ind in module scipy.stats._stats_py:\n",
            "\n",
            "ttest_ind(a, b, axis=0, equal_var=True, nan_policy='propagate', permutations=None, random_state=None, alternative='two-sided', trim=0)\n",
            "    Calculate the T-test for the means of *two independent* samples of scores.\n",
            "    \n",
            "    This is a test for the null hypothesis that 2 independent samples\n",
            "    have identical average (expected) values. This test assumes that the\n",
            "    populations have identical variances by default.\n",
            "    \n",
            "    Parameters\n",
            "    ----------\n",
            "    a, b : array_like\n",
            "        The arrays must have the same shape, except in the dimension\n",
            "        corresponding to `axis` (the first, by default).\n",
            "    axis : int or None, optional\n",
            "        Axis along which to compute test. If None, compute over the whole\n",
            "        arrays, `a`, and `b`.\n",
            "    equal_var : bool, optional\n",
            "        If True (default), perform a standard independent 2 sample test\n",
            "        that assumes equal population variances [1]_.\n",
            "        If False, perform Welch's t-test, which does not assume equal\n",
            "        population variance [2]_.\n",
            "    \n",
            "        .. versionadded:: 0.11.0\n",
            "    \n",
            "    nan_policy : {'propagate', 'raise', 'omit'}, optional\n",
            "        Defines how to handle when input contains nan.\n",
            "        The following options are available (default is 'propagate'):\n",
            "    \n",
            "          * 'propagate': returns nan\n",
            "          * 'raise': throws an error\n",
            "          * 'omit': performs the calculations ignoring nan values\n",
            "    \n",
            "        The 'omit' option is not currently available for permutation tests or\n",
            "        one-sided asympyotic tests.\n",
            "    \n",
            "    permutations : non-negative int, np.inf, or None (default), optional\n",
            "        If 0 or None (default), use the t-distribution to calculate p-values.\n",
            "        Otherwise, `permutations` is  the number of random permutations that\n",
            "        will be used to estimate p-values using a permutation test. If\n",
            "        `permutations` equals or exceeds the number of distinct partitions of\n",
            "        the pooled data, an exact test is performed instead (i.e. each\n",
            "        distinct partition is used exactly once). See Notes for details.\n",
            "    \n",
            "        .. versionadded:: 1.7.0\n",
            "    \n",
            "    random_state : {None, int, `numpy.random.Generator`,\n",
            "            `numpy.random.RandomState`}, optional\n",
            "    \n",
            "        If `seed` is None (or `np.random`), the `numpy.random.RandomState`\n",
            "        singleton is used.\n",
            "        If `seed` is an int, a new ``RandomState`` instance is used,\n",
            "        seeded with `seed`.\n",
            "        If `seed` is already a ``Generator`` or ``RandomState`` instance then\n",
            "        that instance is used.\n",
            "    \n",
            "        Pseudorandom number generator state used to generate permutations\n",
            "        (used only when `permutations` is not None).\n",
            "    \n",
            "        .. versionadded:: 1.7.0\n",
            "    \n",
            "    alternative : {'two-sided', 'less', 'greater'}, optional\n",
            "        Defines the alternative hypothesis.\n",
            "        The following options are available (default is 'two-sided'):\n",
            "    \n",
            "        * 'two-sided': the means of the distributions underlying the samples\n",
            "          are unequal.\n",
            "        * 'less': the mean of the distribution underlying the first sample\n",
            "          is less than the mean of the distribution underlying the second\n",
            "          sample.\n",
            "        * 'greater': the mean of the distribution underlying the first\n",
            "          sample is greater than the mean of the distribution underlying\n",
            "          the second sample.\n",
            "    \n",
            "        .. versionadded:: 1.6.0\n",
            "    \n",
            "    trim : float, optional\n",
            "        If nonzero, performs a trimmed (Yuen's) t-test.\n",
            "        Defines the fraction of elements to be trimmed from each end of the\n",
            "        input samples. If 0 (default), no elements will be trimmed from either\n",
            "        side. The number of trimmed elements from each tail is the floor of the\n",
            "        trim times the number of elements. Valid range is [0, .5).\n",
            "    \n",
            "        .. versionadded:: 1.7\n",
            "    \n",
            "    Returns\n",
            "    -------\n",
            "    statistic : float or array\n",
            "        The calculated t-statistic.\n",
            "    pvalue : float or array\n",
            "        The p-value.\n",
            "    \n",
            "    Notes\n",
            "    -----\n",
            "    Suppose we observe two independent samples, e.g. flower petal lengths, and\n",
            "    we are considering whether the two samples were drawn from the same\n",
            "    population (e.g. the same species of flower or two species with similar\n",
            "    petal characteristics) or two different populations.\n",
            "    \n",
            "    The t-test quantifies the difference between the arithmetic means\n",
            "    of the two samples. The p-value quantifies the probability of observing\n",
            "    as or more extreme values assuming the null hypothesis, that the\n",
            "    samples are drawn from populations with the same population means, is true.\n",
            "    A p-value larger than a chosen threshold (e.g. 5% or 1%) indicates that\n",
            "    our observation is not so unlikely to have occurred by chance. Therefore,\n",
            "    we do not reject the null hypothesis of equal population means.\n",
            "    If the p-value is smaller than our threshold, then we have evidence\n",
            "    against the null hypothesis of equal population means.\n",
            "    \n",
            "    By default, the p-value is determined by comparing the t-statistic of the\n",
            "    observed data against a theoretical t-distribution.\n",
            "    When ``1 < permutations < binom(n, k)``, where\n",
            "    \n",
            "    * ``k`` is the number of observations in `a`,\n",
            "    * ``n`` is the total number of observations in `a` and `b`, and\n",
            "    * ``binom(n, k)`` is the binomial coefficient (``n`` choose ``k``),\n",
            "    \n",
            "    the data are pooled (concatenated), randomly assigned to either group `a`\n",
            "    or `b`, and the t-statistic is calculated. This process is performed\n",
            "    repeatedly (`permutation` times), generating a distribution of the\n",
            "    t-statistic under the null hypothesis, and the t-statistic of the observed\n",
            "    data is compared to this distribution to determine the p-value.\n",
            "    Specifically, the p-value reported is the \"achieved significance level\"\n",
            "    (ASL) as defined in 4.4 of [3]_. Note that there are other ways of\n",
            "    estimating p-values using randomized permutation tests; for other\n",
            "    options, see the more general `permutation_test`.\n",
            "    \n",
            "    When ``permutations >= binom(n, k)``, an exact test is performed: the data\n",
            "    are partitioned between the groups in each distinct way exactly once.\n",
            "    \n",
            "    The permutation test can be computationally expensive and not necessarily\n",
            "    more accurate than the analytical test, but it does not make strong\n",
            "    assumptions about the shape of the underlying distribution.\n",
            "    \n",
            "    Use of trimming is commonly referred to as the trimmed t-test. At times\n",
            "    called Yuen's t-test, this is an extension of Welch's t-test, with the\n",
            "    difference being the use of winsorized means in calculation of the variance\n",
            "    and the trimmed sample size in calculation of the statistic. Trimming is\n",
            "    recommended if the underlying distribution is long-tailed or contaminated\n",
            "    with outliers [4]_.\n",
            "    \n",
            "    The statistic is calculated as ``(np.mean(a) - np.mean(b))/se``, where\n",
            "    ``se`` is the standard error. Therefore, the statistic will be positive\n",
            "    when the sample mean of `a` is greater than the sample mean of `b` and\n",
            "    negative when the sample mean of `a` is less than the sample mean of\n",
            "    `b`.\n",
            "    \n",
            "    References\n",
            "    ----------\n",
            "    .. [1] https://en.wikipedia.org/wiki/T-test#Independent_two-sample_t-test\n",
            "    \n",
            "    .. [2] https://en.wikipedia.org/wiki/Welch%27s_t-test\n",
            "    \n",
            "    .. [3] B. Efron and T. Hastie. Computer Age Statistical Inference. (2016).\n",
            "    \n",
            "    .. [4] Yuen, Karen K. \"The Two-Sample Trimmed t for Unequal Population\n",
            "           Variances.\" Biometrika, vol. 61, no. 1, 1974, pp. 165-170. JSTOR,\n",
            "           www.jstor.org/stable/2334299. Accessed 30 Mar. 2021.\n",
            "    \n",
            "    .. [5] Yuen, Karen K., and W. J. Dixon. \"The Approximate Behaviour and\n",
            "           Performance of the Two-Sample Trimmed t.\" Biometrika, vol. 60,\n",
            "           no. 2, 1973, pp. 369-374. JSTOR, www.jstor.org/stable/2334550.\n",
            "           Accessed 30 Mar. 2021.\n",
            "    \n",
            "    Examples\n",
            "    --------\n",
            "    >>> import numpy as np\n",
            "    >>> from scipy import stats\n",
            "    >>> rng = np.random.default_rng()\n",
            "    \n",
            "    Test with sample with identical means:\n",
            "    \n",
            "    >>> rvs1 = stats.norm.rvs(loc=5, scale=10, size=500, random_state=rng)\n",
            "    >>> rvs2 = stats.norm.rvs(loc=5, scale=10, size=500, random_state=rng)\n",
            "    >>> stats.ttest_ind(rvs1, rvs2)\n",
            "    Ttest_indResult(statistic=-0.4390847099199348, pvalue=0.6606952038870015)\n",
            "    >>> stats.ttest_ind(rvs1, rvs2, equal_var=False)\n",
            "    Ttest_indResult(statistic=-0.4390847099199348, pvalue=0.6606952553131064)\n",
            "    \n",
            "    `ttest_ind` underestimates p for unequal variances:\n",
            "    \n",
            "    >>> rvs3 = stats.norm.rvs(loc=5, scale=20, size=500, random_state=rng)\n",
            "    >>> stats.ttest_ind(rvs1, rvs3)\n",
            "    Ttest_indResult(statistic=-1.6370984482905417, pvalue=0.1019251574705033)\n",
            "    >>> stats.ttest_ind(rvs1, rvs3, equal_var=False)\n",
            "    Ttest_indResult(statistic=-1.637098448290542, pvalue=0.10202110497954867)\n",
            "    \n",
            "    When ``n1 != n2``, the equal variance t-statistic is no longer equal to the\n",
            "    unequal variance t-statistic:\n",
            "    \n",
            "    >>> rvs4 = stats.norm.rvs(loc=5, scale=20, size=100, random_state=rng)\n",
            "    >>> stats.ttest_ind(rvs1, rvs4)\n",
            "    Ttest_indResult(statistic=-1.9481646859513422, pvalue=0.05186270935842703)\n",
            "    >>> stats.ttest_ind(rvs1, rvs4, equal_var=False)\n",
            "    Ttest_indResult(statistic=-1.3146566100751664, pvalue=0.1913495266513811)\n",
            "    \n",
            "    T-test with different means, variance, and n:\n",
            "    \n",
            "    >>> rvs5 = stats.norm.rvs(loc=8, scale=20, size=100, random_state=rng)\n",
            "    >>> stats.ttest_ind(rvs1, rvs5)\n",
            "    Ttest_indResult(statistic=-2.8415950600298774, pvalue=0.0046418707568707885)\n",
            "    >>> stats.ttest_ind(rvs1, rvs5, equal_var=False)\n",
            "    Ttest_indResult(statistic=-1.8686598649188084, pvalue=0.06434714193919686)\n",
            "    \n",
            "    When performing a permutation test, more permutations typically yields\n",
            "    more accurate results. Use a ``np.random.Generator`` to ensure\n",
            "    reproducibility:\n",
            "    \n",
            "    >>> stats.ttest_ind(rvs1, rvs5, permutations=10000,\n",
            "    ...                 random_state=rng)\n",
            "    Ttest_indResult(statistic=-2.8415950600298774, pvalue=0.0052994700529947)\n",
            "    \n",
            "    Take these two samples, one of which has an extreme tail.\n",
            "    \n",
            "    >>> a = (56, 128.6, 12, 123.8, 64.34, 78, 763.3)\n",
            "    >>> b = (1.1, 2.9, 4.2)\n",
            "    \n",
            "    Use the `trim` keyword to perform a trimmed (Yuen) t-test. For example,\n",
            "    using 20% trimming, ``trim=.2``, the test will reduce the impact of one\n",
            "    (``np.floor(trim*len(a))``) element from each tail of sample `a`. It will\n",
            "    have no effect on sample `b` because ``np.floor(trim*len(b))`` is 0.\n",
            "    \n",
            "    >>> stats.ttest_ind(a, b, trim=.2)\n",
            "    Ttest_indResult(statistic=3.4463884028073513,\n",
            "                    pvalue=0.01369338726499547)\n",
            "\n"
          ]
        }
      ]
    },
    {
      "cell_type": "code",
      "source": [
        "alpha=0.05\n",
        "if rp>=alpha:\n",
        "    print('귀무가설 채택')\n",
        "else:\n",
        "    print('귀무가설 기각, 대립가설 채택')"
      ],
      "metadata": {
        "colab": {
          "base_uri": "https://localhost:8080/"
        },
        "id": "o8eZ7xs_dzZv",
        "outputId": "a82e134a-c6c7-4a49-c890-2d87497d348d"
      },
      "execution_count": 41,
      "outputs": [
        {
          "output_type": "stream",
          "name": "stdout",
          "text": [
            "귀무가설 기각, 대립가설 채택\n"
          ]
        }
      ]
    },
    {
      "cell_type": "markdown",
      "source": [
        "#문제3"
      ],
      "metadata": {
        "id": "6ykDXUXVgs97"
      }
    },
    {
      "cell_type": "code",
      "source": [
        "scores = [75, 80, 68, 72, 77, 82, 81, 79, 70, 74, 76, 78, 81, 73, 81, 78, 75, 72, 74, 79, 78, 79]"
      ],
      "metadata": {
        "id": "Hx0VgfBFgugX"
      },
      "execution_count": 42,
      "outputs": []
    },
    {
      "cell_type": "code",
      "source": [
        "help(stats.ttest_1samp)"
      ],
      "metadata": {
        "colab": {
          "base_uri": "https://localhost:8080/"
        },
        "id": "Wu7J9fQbiFkc",
        "outputId": "c1d0b163-933b-4ac3-bd1c-1c093b07f49a"
      },
      "execution_count": 43,
      "outputs": [
        {
          "output_type": "stream",
          "name": "stdout",
          "text": [
            "Help on function ttest_1samp in module scipy.stats._stats_py:\n",
            "\n",
            "ttest_1samp(a, popmean, axis=0, nan_policy='propagate', alternative='two-sided', *, keepdims=False)\n",
            "    Calculate the T-test for the mean of ONE group of scores.\n",
            "    \n",
            "    This is a test for the null hypothesis that the expected value\n",
            "    (mean) of a sample of independent observations `a` is equal to the given\n",
            "    population mean, `popmean`.\n",
            "    \n",
            "    Parameters\n",
            "    ----------\n",
            "    a : array_like\n",
            "        Sample observation.\n",
            "    popmean : float or array_like\n",
            "        Expected value in null hypothesis. If array_like, then its length along\n",
            "        `axis` must equal 1, and it must otherwise be broadcastable with `a`.\n",
            "    axis : int or None, default: 0\n",
            "        If an int, the axis of the input along which to compute the statistic.\n",
            "        The statistic of each axis-slice (e.g. row) of the input will appear in a\n",
            "        corresponding element of the output.\n",
            "        If ``None``, the input will be raveled before computing the statistic.\n",
            "    nan_policy : {'propagate', 'omit', 'raise'}\n",
            "        Defines how to handle input NaNs.\n",
            "        \n",
            "        - ``propagate``: if a NaN is present in the axis slice (e.g. row) along\n",
            "          which the  statistic is computed, the corresponding entry of the output\n",
            "          will be NaN.\n",
            "        - ``omit``: NaNs will be omitted when performing the calculation.\n",
            "          If insufficient data remains in the axis slice along which the\n",
            "          statistic is computed, the corresponding entry of the output will be\n",
            "          NaN.\n",
            "        - ``raise``: if a NaN is present, a ``ValueError`` will be raised.\n",
            "    alternative : {'two-sided', 'less', 'greater'}, optional\n",
            "        Defines the alternative hypothesis.\n",
            "        The following options are available (default is 'two-sided'):\n",
            "        \n",
            "        * 'two-sided': the mean of the underlying distribution of the sample\n",
            "          is different than the given population mean (`popmean`)\n",
            "        * 'less': the mean of the underlying distribution of the sample is\n",
            "          less than the given population mean (`popmean`)\n",
            "        * 'greater': the mean of the underlying distribution of the sample is\n",
            "          greater than the given population mean (`popmean`)\n",
            "    keepdims : bool, default: False\n",
            "        If this is set to True, the axes which are reduced are left\n",
            "        in the result as dimensions with size one. With this option,\n",
            "        the result will broadcast correctly against the input array.\n",
            "    \n",
            "    Returns\n",
            "    -------\n",
            "    result : `~scipy.stats._result_classes.TtestResult`\n",
            "        An object with the following attributes:\n",
            "        \n",
            "        statistic : float or array\n",
            "            The t-statistic.\n",
            "        pvalue : float or array\n",
            "            The p-value associated with the given alternative.\n",
            "        df : float or array\n",
            "            The number of degrees of freedom used in calculation of the\n",
            "            t-statistic; this is one less than the size of the sample\n",
            "            (``a.shape[axis]``).\n",
            "        \n",
            "            .. versionadded:: 1.10.0\n",
            "        \n",
            "        The object also has the following method:\n",
            "        \n",
            "        confidence_interval(confidence_level=0.95)\n",
            "            Computes a confidence interval around the population\n",
            "            mean for the given confidence level.\n",
            "            The confidence interval is returned in a ``namedtuple`` with\n",
            "            fields `low` and `high`.\n",
            "        \n",
            "            .. versionadded:: 1.10.0\n",
            "    \n",
            "    Notes\n",
            "    -----\n",
            "    The statistic is calculated as ``(np.mean(a) - popmean)/se``, where\n",
            "    ``se`` is the standard error. Therefore, the statistic will be positive\n",
            "    when the sample mean is greater than the population mean and negative when\n",
            "    the sample mean is less than the population mean.\n",
            "    \n",
            "    Beginning in SciPy 1.9, ``np.matrix`` inputs (not recommended for new\n",
            "    code) are converted to ``np.ndarray`` before the calculation is performed. In\n",
            "    this case, the output will be a scalar or ``np.ndarray`` of appropriate shape\n",
            "    rather than a 2D ``np.matrix``. Similarly, while masked elements of masked\n",
            "    arrays are ignored, the output will be a scalar or ``np.ndarray`` rather than a\n",
            "    masked array with ``mask=False``.\n",
            "    \n",
            "    Examples\n",
            "    --------\n",
            "    Suppose we wish to test the null hypothesis that the mean of a population\n",
            "    is equal to 0.5. We choose a confidence level of 99%; that is, we will\n",
            "    reject the null hypothesis in favor of the alternative if the p-value is\n",
            "    less than 0.01.\n",
            "    \n",
            "    When testing random variates from the standard uniform distribution, which\n",
            "    has a mean of 0.5, we expect the data to be consistent with the null\n",
            "    hypothesis most of the time.\n",
            "    \n",
            "    >>> import numpy as np\n",
            "    >>> from scipy import stats\n",
            "    >>> rng = np.random.default_rng()\n",
            "    >>> rvs = stats.uniform.rvs(size=50, random_state=rng)\n",
            "    >>> stats.ttest_1samp(rvs, popmean=0.5)\n",
            "    TtestResult(statistic=2.456308468440, pvalue=0.017628209047638, df=49)\n",
            "    \n",
            "    As expected, the p-value of 0.017 is not below our threshold of 0.01, so\n",
            "    we cannot reject the null hypothesis.\n",
            "    \n",
            "    When testing data from the standard *normal* distribution, which has a mean\n",
            "    of 0, we would expect the null hypothesis to be rejected.\n",
            "    \n",
            "    >>> rvs = stats.norm.rvs(size=50, random_state=rng)\n",
            "    >>> stats.ttest_1samp(rvs, popmean=0.5)\n",
            "    TtestResult(statistic=-7.433605518875, pvalue=1.416760157221e-09, df=49)\n",
            "    \n",
            "    Indeed, the p-value is lower than our threshold of 0.01, so we reject the\n",
            "    null hypothesis in favor of the default \"two-sided\" alternative: the mean\n",
            "    of the population is *not* equal to 0.5.\n",
            "    \n",
            "    However, suppose we were to test the null hypothesis against the\n",
            "    one-sided alternative that the mean of the population is *greater* than\n",
            "    0.5. Since the mean of the standard normal is less than 0.5, we would not\n",
            "    expect the null hypothesis to be rejected.\n",
            "    \n",
            "    >>> stats.ttest_1samp(rvs, popmean=0.5, alternative='greater')\n",
            "    TtestResult(statistic=-7.433605518875, pvalue=0.99999999929, df=49)\n",
            "    \n",
            "    Unsurprisingly, with a p-value greater than our threshold, we would not\n",
            "    reject the null hypothesis.\n",
            "    \n",
            "    Note that when working with a confidence level of 99%, a true null\n",
            "    hypothesis will be rejected approximately 1% of the time.\n",
            "    \n",
            "    >>> rvs = stats.uniform.rvs(size=(100, 50), random_state=rng)\n",
            "    >>> res = stats.ttest_1samp(rvs, popmean=0.5, axis=1)\n",
            "    >>> np.sum(res.pvalue < 0.01)\n",
            "    1\n",
            "    \n",
            "    Indeed, even though all 100 samples above were drawn from the standard\n",
            "    uniform distribution, which *does* have a population mean of 0.5, we would\n",
            "    mistakenly reject the null hypothesis for one of them.\n",
            "    \n",
            "    `ttest_1samp` can also compute a confidence interval around the population\n",
            "    mean.\n",
            "    \n",
            "    >>> rvs = stats.norm.rvs(size=50, random_state=rng)\n",
            "    >>> res = stats.ttest_1samp(rvs, popmean=0)\n",
            "    >>> ci = res.confidence_interval(confidence_level=0.95)\n",
            "    >>> ci\n",
            "    ConfidenceInterval(low=-0.3193887540880017, high=0.2898583388980972)\n",
            "    \n",
            "    The bounds of the 95% confidence interval are the\n",
            "    minimum and maximum values of the parameter `popmean` for which the\n",
            "    p-value of the test would be 0.05.\n",
            "    \n",
            "    >>> res = stats.ttest_1samp(rvs, popmean=ci.low)\n",
            "    >>> np.testing.assert_allclose(res.pvalue, 0.05)\n",
            "    >>> res = stats.ttest_1samp(rvs, popmean=ci.high)\n",
            "    >>> np.testing.assert_allclose(res.pvalue, 0.05)\n",
            "    \n",
            "    Under certain assumptions about the population from which a sample\n",
            "    is drawn, the confidence interval with confidence level 95% is expected\n",
            "    to contain the true population mean in 95% of sample replications.\n",
            "    \n",
            "    >>> rvs = stats.norm.rvs(size=(50, 1000), loc=1, random_state=rng)\n",
            "    >>> res = stats.ttest_1samp(rvs, popmean=0)\n",
            "    >>> ci = res.confidence_interval()\n",
            "    >>> contains_pop_mean = (ci.low < 1) & (ci.high > 1)\n",
            "    >>> contains_pop_mean.sum()\n",
            "    953\n",
            "\n"
          ]
        }
      ]
    },
    {
      "cell_type": "code",
      "source": [
        "result=stats.ttest_1samp(scores,popmean=75,alternative='greater')\n",
        "print(result)\n",
        "rs=round(result.statistic,4)\n",
        "rp=round(result.pvalue,4)\n",
        "print(rs,rp)"
      ],
      "metadata": {
        "colab": {
          "base_uri": "https://localhost:8080/"
        },
        "id": "7JlhsNvFg0qK",
        "outputId": "250ed7eb-189a-4d6e-ae80-096e8460b9e8"
      },
      "execution_count": 49,
      "outputs": [
        {
          "output_type": "stream",
          "name": "stdout",
          "text": [
            "TtestResult(statistic=1.765879233231226, pvalue=0.04597614747709146, df=21)\n",
            "1.7659 0.046\n"
          ]
        }
      ]
    },
    {
      "cell_type": "code",
      "source": [
        "alpha=0.05\n",
        "if rp>=alpha:\n",
        "    print('귀무가설 채택')\n",
        "else:\n",
        "    print('귀무가설 기각, 대립가설 채택')"
      ],
      "metadata": {
        "colab": {
          "base_uri": "https://localhost:8080/"
        },
        "id": "vPSq0sYCkB56",
        "outputId": "b13e9a4d-cb76-413c-dd49-b578dc37a26a"
      },
      "execution_count": 50,
      "outputs": [
        {
          "output_type": "stream",
          "name": "stdout",
          "text": [
            "귀무가설 기각, 대립가설 채택\n"
          ]
        }
      ]
    }
  ]
}