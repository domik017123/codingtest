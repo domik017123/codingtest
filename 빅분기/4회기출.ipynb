{
  "nbformat": 4,
  "nbformat_minor": 0,
  "metadata": {
    "colab": {
      "provenance": []
    },
    "kernelspec": {
      "name": "python3",
      "display_name": "Python 3"
    },
    "language_info": {
      "name": "python"
    }
  },
  "cells": [
    {
      "cell_type": "code",
      "execution_count": null,
      "metadata": {
        "id": "XezhSvmNVSQE"
      },
      "outputs": [],
      "source": []
    },
    {
      "cell_type": "markdown",
      "source": [
        "#1유형"
      ],
      "metadata": {
        "id": "blsv28HJa8sj"
      }
    },
    {
      "cell_type": "markdown",
      "source": [
        "##1-1.Temperature컬럼에서 숫자가 아닌 문자들을 제거후 숫자 타입으로 바꾸고 3분위수에서 1분위수의 차이를 소숫점 이하 2자리까지 구하여라"
      ],
      "metadata": {
        "id": "HX4KskRxa_TY"
      }
    },
    {
      "cell_type": "code",
      "source": [
        "import pandas as pd\n",
        "df = pd.read_csv('https://raw.githubusercontent.com/Datamanim/datarepo/main/krdatacertificate/e4_p1_1.csv')\n",
        "r=df\n",
        "# r2=r.select_dtypes(include=['object'])\n",
        "r2=r.Temperature.str.replace('*','',regex=True)\n",
        "r2=r2.astype('float')\n",
        "\n",
        "iqr= r2.quantile(0.75)-r2.quantile(0.25)\n",
        "print(round(iqr,2))\n",
        "# r2.info()\n",
        "# df.head(5)\n",
        "# help(r.replace)"
      ],
      "metadata": {
        "colab": {
          "base_uri": "https://localhost:8080/"
        },
        "id": "-QqlpxHCbCD2",
        "outputId": "9cec5d68-ac33-45a9-d7ba-ede6e3841fdd"
      },
      "execution_count": 49,
      "outputs": [
        {
          "output_type": "stream",
          "name": "stdout",
          "text": [
            "27.48\n"
          ]
        }
      ]
    },
    {
      "cell_type": "markdown",
      "source": [
        "##1-2.Likes를 Comments로 나눈 비율이 20이상이면서 Keyword값이 minecraft인 영상들의 Views값의 평균을 정수로 구하여라"
      ],
      "metadata": {
        "id": "UQHDnNuibEcW"
      }
    },
    {
      "cell_type": "code",
      "source": [
        "import pandas as pd\n",
        "df = pd.read_csv('https://raw.githubusercontent.com/Datamanim/datarepo/main/krdatacertificate/e4_p1_2.csv')\n",
        "r = df\n",
        "r2 = df\n",
        "r['ratio']=r2.Likes / r2.Comments\n",
        "cond1 = r.ratio >= 20\n",
        "cond2 = r.Keyword == 'minecraft'\n",
        "r3= r.loc[cond1 & cond2]\n",
        "result = r3.Views.mean()\n",
        "print(int(result))\n",
        "\n",
        "# r3.head()"
      ],
      "metadata": {
        "colab": {
          "base_uri": "https://localhost:8080/"
        },
        "id": "fgn-a7o4frQ-",
        "outputId": "d4cd7de4-7da7-4d31-9185-b4d6fb6c86ef"
      },
      "execution_count": 53,
      "outputs": [
        {
          "output_type": "stream",
          "name": "stdout",
          "text": [
            "1789084\n"
          ]
        }
      ]
    },
    {
      "cell_type": "markdown",
      "source": [
        "##1-3.date_added가 2018년 1월 이면서 country가 United Kingdom 단독 제작인 데이터의 갯수"
      ],
      "metadata": {
        "id": "EwSZnkiGbER4"
      }
    },
    {
      "cell_type": "code",
      "source": [
        "import pandas as pd\n",
        "import datetime\n",
        "df = pd.read_csv('https://raw.githubusercontent.com/Datamanim/datarepo/main/krdatacertificate/e4_p1_3.csv')\n",
        "r = df\n",
        "r.date_added=pd.to_datetime(r.date_added)\n",
        "# r.info()\n",
        "cond1= (r.date_added.dt.year==2018) & (r.date_added.dt.month ==1)\n",
        "cond2 = r.country =='United Kingdom'\n",
        "r2 = r.loc[cond1&cond2]\n",
        "print(len(r2))\n",
        "# r2.head()\n",
        "# r.info()\n",
        "# df.head(5)\n",
        "# help(r.isin)\n",
        "# help(pd.to_datetime)"
      ],
      "metadata": {
        "colab": {
          "base_uri": "https://localhost:8080/"
        },
        "id": "9feFWh4egbIN",
        "outputId": "44f042ef-3090-45ea-b4da-4cd872f36585"
      },
      "execution_count": 92,
      "outputs": [
        {
          "output_type": "stream",
          "name": "stdout",
          "text": [
            "6\n"
          ]
        }
      ]
    },
    {
      "cell_type": "markdown",
      "source": [
        "#2유형"
      ],
      "metadata": {
        "id": "OX_J0hV4Vblo"
      }
    },
    {
      "cell_type": "markdown",
      "source": [
        "예측 변수 Segmentation, test.csv에 대해 ID별로 Segmentation의 클래스를 예측해서 저장후 제출, 제출 데이터 컬럼은 ID와 Segmentation 두개만 존재해야함. 평가지표는 macro f1 score"
      ],
      "metadata": {
        "id": "vMNgKpUTVZTQ"
      }
    },
    {
      "cell_type": "code",
      "source": [
        "import pandas as pd\n",
        "from sklearn.model_selection import train_test_split\n",
        "from sklearn.ensemble import RandomForestClassifier\n",
        "import sklearn.metrics\n",
        "train = pd.read_csv('https://raw.githubusercontent.com/Datamanim/datarepo/main/krdatacertificate/e4_p2_train.csv')\n",
        "test = pd.read_csv('https://raw.githubusercontent.com/Datamanim/datarepo/main/krdatacertificate/e4_p2_test.csv')\n",
        "\n",
        "y_train = train.pop('Segmentation')\n",
        "x_train = train.fillna(0)\n",
        "x_test = test.fillna(0)\n",
        "\n",
        "drop_col = ['ID']\n",
        "x_train_drop = x_train.drop(columns=drop_col)\n",
        "x_test_drop = x_test.drop(columns=drop_col)\n",
        "x_train_dum = pd.get_dummies(x_train_drop)\n",
        "x_test_dum = pd.get_dummies(x_test_drop)\n",
        "x_test_dum = x_test_dum.reindex(columns=x_train_dum.columns, fill_value=0)\n",
        "y=y_train\n",
        "\n",
        "X_train, X_val, Y_train, Y_val = train_test_split(x_train_dum, y, test_size=0.33, random_state=42)\n",
        "print(X_train.shape, X_val.shape, Y_train.shape, Y_val.shape, x_test_dum.shape)\n",
        "\n",
        "\n",
        "rf = RandomForestClassifier()\n",
        "rf.fit(X_train, Y_train)\n",
        "rf_pred = rf.predict(X_val)\n",
        "rf_f1 = sklearn.metrics.f1_score(Y_val,rf_pred,average='macro')\n",
        "print(rf_f1)\n",
        "\n",
        "pred = rf.predict(x_test_dum)\n",
        "# print(pred.shape)\n",
        "result = pd.DataFrame({'ID':x_test.ID, 'Segmentation':pred}).to_csv('000012345',index=False)\n",
        "r2=pd.read_csv('000012345')\n",
        "r2.head()\n",
        "\n",
        "# print(y_train.shape, x_train.shape)\n",
        "# display(x_train.info())\n",
        "# display(x_train.nunique())\n",
        "# help(sklearn.metrics.f1_score)"
      ],
      "metadata": {
        "colab": {
          "base_uri": "https://localhost:8080/",
          "height": 242
        },
        "id": "Anejz-uVVdaV",
        "outputId": "8754d217-e1c0-4da5-abe4-3635bcbf10e5"
      },
      "execution_count": 15,
      "outputs": [
        {
          "output_type": "stream",
          "name": "stdout",
          "text": [
            "(3270, 32) (1611, 32) (3270,) (1611,) (1542, 32)\n",
            "0.38857788720011033\n"
          ]
        },
        {
          "output_type": "execute_result",
          "data": {
            "text/plain": [
              "       ID Segmentation\n",
              "0  460406            D\n",
              "1  466890            C\n",
              "2  466145            B\n",
              "3  465805            B\n",
              "4  466137            C"
            ],
            "text/html": [
              "\n",
              "  <div id=\"df-3c97a3d1-b1d4-4881-9e7c-5f9f0dc54d0c\">\n",
              "    <div class=\"colab-df-container\">\n",
              "      <div>\n",
              "<style scoped>\n",
              "    .dataframe tbody tr th:only-of-type {\n",
              "        vertical-align: middle;\n",
              "    }\n",
              "\n",
              "    .dataframe tbody tr th {\n",
              "        vertical-align: top;\n",
              "    }\n",
              "\n",
              "    .dataframe thead th {\n",
              "        text-align: right;\n",
              "    }\n",
              "</style>\n",
              "<table border=\"1\" class=\"dataframe\">\n",
              "  <thead>\n",
              "    <tr style=\"text-align: right;\">\n",
              "      <th></th>\n",
              "      <th>ID</th>\n",
              "      <th>Segmentation</th>\n",
              "    </tr>\n",
              "  </thead>\n",
              "  <tbody>\n",
              "    <tr>\n",
              "      <th>0</th>\n",
              "      <td>460406</td>\n",
              "      <td>D</td>\n",
              "    </tr>\n",
              "    <tr>\n",
              "      <th>1</th>\n",
              "      <td>466890</td>\n",
              "      <td>C</td>\n",
              "    </tr>\n",
              "    <tr>\n",
              "      <th>2</th>\n",
              "      <td>466145</td>\n",
              "      <td>B</td>\n",
              "    </tr>\n",
              "    <tr>\n",
              "      <th>3</th>\n",
              "      <td>465805</td>\n",
              "      <td>B</td>\n",
              "    </tr>\n",
              "    <tr>\n",
              "      <th>4</th>\n",
              "      <td>466137</td>\n",
              "      <td>C</td>\n",
              "    </tr>\n",
              "  </tbody>\n",
              "</table>\n",
              "</div>\n",
              "      <button class=\"colab-df-convert\" onclick=\"convertToInteractive('df-3c97a3d1-b1d4-4881-9e7c-5f9f0dc54d0c')\"\n",
              "              title=\"Convert this dataframe to an interactive table.\"\n",
              "              style=\"display:none;\">\n",
              "        \n",
              "  <svg xmlns=\"http://www.w3.org/2000/svg\" height=\"24px\"viewBox=\"0 0 24 24\"\n",
              "       width=\"24px\">\n",
              "    <path d=\"M0 0h24v24H0V0z\" fill=\"none\"/>\n",
              "    <path d=\"M18.56 5.44l.94 2.06.94-2.06 2.06-.94-2.06-.94-.94-2.06-.94 2.06-2.06.94zm-11 1L8.5 8.5l.94-2.06 2.06-.94-2.06-.94L8.5 2.5l-.94 2.06-2.06.94zm10 10l.94 2.06.94-2.06 2.06-.94-2.06-.94-.94-2.06-.94 2.06-2.06.94z\"/><path d=\"M17.41 7.96l-1.37-1.37c-.4-.4-.92-.59-1.43-.59-.52 0-1.04.2-1.43.59L10.3 9.45l-7.72 7.72c-.78.78-.78 2.05 0 2.83L4 21.41c.39.39.9.59 1.41.59.51 0 1.02-.2 1.41-.59l7.78-7.78 2.81-2.81c.8-.78.8-2.07 0-2.86zM5.41 20L4 18.59l7.72-7.72 1.47 1.35L5.41 20z\"/>\n",
              "  </svg>\n",
              "      </button>\n",
              "      \n",
              "  <style>\n",
              "    .colab-df-container {\n",
              "      display:flex;\n",
              "      flex-wrap:wrap;\n",
              "      gap: 12px;\n",
              "    }\n",
              "\n",
              "    .colab-df-convert {\n",
              "      background-color: #E8F0FE;\n",
              "      border: none;\n",
              "      border-radius: 50%;\n",
              "      cursor: pointer;\n",
              "      display: none;\n",
              "      fill: #1967D2;\n",
              "      height: 32px;\n",
              "      padding: 0 0 0 0;\n",
              "      width: 32px;\n",
              "    }\n",
              "\n",
              "    .colab-df-convert:hover {\n",
              "      background-color: #E2EBFA;\n",
              "      box-shadow: 0px 1px 2px rgba(60, 64, 67, 0.3), 0px 1px 3px 1px rgba(60, 64, 67, 0.15);\n",
              "      fill: #174EA6;\n",
              "    }\n",
              "\n",
              "    [theme=dark] .colab-df-convert {\n",
              "      background-color: #3B4455;\n",
              "      fill: #D2E3FC;\n",
              "    }\n",
              "\n",
              "    [theme=dark] .colab-df-convert:hover {\n",
              "      background-color: #434B5C;\n",
              "      box-shadow: 0px 1px 3px 1px rgba(0, 0, 0, 0.15);\n",
              "      filter: drop-shadow(0px 1px 2px rgba(0, 0, 0, 0.3));\n",
              "      fill: #FFFFFF;\n",
              "    }\n",
              "  </style>\n",
              "\n",
              "      <script>\n",
              "        const buttonEl =\n",
              "          document.querySelector('#df-3c97a3d1-b1d4-4881-9e7c-5f9f0dc54d0c button.colab-df-convert');\n",
              "        buttonEl.style.display =\n",
              "          google.colab.kernel.accessAllowed ? 'block' : 'none';\n",
              "\n",
              "        async function convertToInteractive(key) {\n",
              "          const element = document.querySelector('#df-3c97a3d1-b1d4-4881-9e7c-5f9f0dc54d0c');\n",
              "          const dataTable =\n",
              "            await google.colab.kernel.invokeFunction('convertToInteractive',\n",
              "                                                     [key], {});\n",
              "          if (!dataTable) return;\n",
              "\n",
              "          const docLinkHtml = 'Like what you see? Visit the ' +\n",
              "            '<a target=\"_blank\" href=https://colab.research.google.com/notebooks/data_table.ipynb>data table notebook</a>'\n",
              "            + ' to learn more about interactive tables.';\n",
              "          element.innerHTML = '';\n",
              "          dataTable['output_type'] = 'display_data';\n",
              "          await google.colab.output.renderOutput(dataTable, element);\n",
              "          const docLink = document.createElement('div');\n",
              "          docLink.innerHTML = docLinkHtml;\n",
              "          element.appendChild(docLink);\n",
              "        }\n",
              "      </script>\n",
              "    </div>\n",
              "  </div>\n",
              "  "
            ]
          },
          "metadata": {},
          "execution_count": 15
        }
      ]
    }
  ]
}